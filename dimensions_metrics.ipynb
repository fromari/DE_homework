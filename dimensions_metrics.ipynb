{
 "cells": [
  {
   "cell_type": "markdown",
   "id": "98f139b0",
   "metadata": {},
   "source": [
    "# #1 dimensions vs metrics"
   ]
  },
  {
   "cell_type": "markdown",
   "id": "c96ce577",
   "metadata": {},
   "source": [
    "There are two kind of fields:\n",
    "- dimensions (country, banner_id, campaign_name ..)\n",
    "- metrics: (clicks, spends, impressions …)\n",
    "\n",
    "We need an estimation for a question: what part of the fields are metrics? It is not always easy to say exactly if this field metric is neither dimension. Ok to have answer like: from 25% to 35%\n",
    "\n",
    "round answer to integer"
   ]
  },
  {
   "cell_type": "code",
   "execution_count": 1,
   "id": "fa33afa8",
   "metadata": {
    "ExecuteTime": {
     "end_time": "2022-10-09T22:09:28.707611Z",
     "start_time": "2022-10-09T22:09:20.375950Z"
    }
   },
   "outputs": [
    {
     "data": {
      "text/html": [
       "<div>\n",
       "<style scoped>\n",
       "    .dataframe tbody tr th:only-of-type {\n",
       "        vertical-align: middle;\n",
       "    }\n",
       "\n",
       "    .dataframe tbody tr th {\n",
       "        vertical-align: top;\n",
       "    }\n",
       "\n",
       "    .dataframe thead th {\n",
       "        text-align: right;\n",
       "    }\n",
       "</style>\n",
       "<table border=\"1\" class=\"dataframe\">\n",
       "  <thead>\n",
       "    <tr style=\"text-align: right;\">\n",
       "      <th></th>\n",
       "      <th>data_source_title</th>\n",
       "      <th>report_type_title</th>\n",
       "      <th>field_title</th>\n",
       "      <th>sql_field_name</th>\n",
       "      <th>api_field_name</th>\n",
       "    </tr>\n",
       "  </thead>\n",
       "  <tbody>\n",
       "    <tr>\n",
       "      <th>0</th>\n",
       "      <td>ACME</td>\n",
       "      <td>Transactions</td>\n",
       "      <td>Sale Channel</td>\n",
       "      <td>sale_channel</td>\n",
       "      <td>SaleChannel</td>\n",
       "    </tr>\n",
       "    <tr>\n",
       "      <th>1</th>\n",
       "      <td>ACME</td>\n",
       "      <td>Transactions</td>\n",
       "      <td>Purchase Type</td>\n",
       "      <td>purchase_type</td>\n",
       "      <td>PurchaseType</td>\n",
       "    </tr>\n",
       "    <tr>\n",
       "      <th>2</th>\n",
       "      <td>ACME</td>\n",
       "      <td>Transactions</td>\n",
       "      <td>Payment Status</td>\n",
       "      <td>payment_status</td>\n",
       "      <td>PaymentStatus</td>\n",
       "    </tr>\n",
       "    <tr>\n",
       "      <th>3</th>\n",
       "      <td>ACME</td>\n",
       "      <td>Transactions</td>\n",
       "      <td>Payment Method</td>\n",
       "      <td>payment_method</td>\n",
       "      <td>PaymentMethod</td>\n",
       "    </tr>\n",
       "    <tr>\n",
       "      <th>4</th>\n",
       "      <td>ACME</td>\n",
       "      <td>Transactions</td>\n",
       "      <td>Payment Due Date</td>\n",
       "      <td>payment_due_date</td>\n",
       "      <td>PaymentDueDate</td>\n",
       "    </tr>\n",
       "  </tbody>\n",
       "</table>\n",
       "</div>"
      ],
      "text/plain": [
       "  data_source_title report_type_title       field_title    sql_field_name  \\\n",
       "0              ACME      Transactions      Sale Channel      sale_channel   \n",
       "1              ACME      Transactions     Purchase Type     purchase_type   \n",
       "2              ACME      Transactions    Payment Status    payment_status   \n",
       "3              ACME      Transactions    Payment Method    payment_method   \n",
       "4              ACME      Transactions  Payment Due Date  payment_due_date   \n",
       "\n",
       "   api_field_name  \n",
       "0     SaleChannel  \n",
       "1    PurchaseType  \n",
       "2   PaymentStatus  \n",
       "3   PaymentMethod  \n",
       "4  PaymentDueDate  "
      ]
     },
     "execution_count": 1,
     "metadata": {},
     "output_type": "execute_result"
    }
   ],
   "source": [
    "import pandas as pd\n",
    "\n",
    "df = pd.read_csv(\"Data_Dictionary_for_CSV_2022_10_06.csv\")\n",
    "\n",
    "df.head()"
   ]
  },
  {
   "cell_type": "code",
   "execution_count": 3,
   "id": "ac2f1f82",
   "metadata": {
    "ExecuteTime": {
     "end_time": "2022-10-09T22:10:10.450029Z",
     "start_time": "2022-10-09T22:10:10.431045Z"
    }
   },
   "outputs": [
    {
     "data": {
      "text/plain": [
       "31076"
      ]
     },
     "execution_count": 3,
     "metadata": {},
     "output_type": "execute_result"
    }
   ],
   "source": [
    "df.shape[0]"
   ]
  },
  {
   "cell_type": "code",
   "execution_count": 8,
   "id": "31b57fa8",
   "metadata": {
    "ExecuteTime": {
     "end_time": "2022-10-09T22:16:38.200711Z",
     "start_time": "2022-10-09T22:16:38.087878Z"
    }
   },
   "outputs": [],
   "source": [
    "df_lower = df.apply(lambda x: x.astype(str).str.lower())"
   ]
  },
  {
   "cell_type": "code",
   "execution_count": 157,
   "id": "8dd1c20d",
   "metadata": {
    "ExecuteTime": {
     "end_time": "2022-10-09T23:43:30.973539Z",
     "start_time": "2022-10-09T23:43:30.946538Z"
    }
   },
   "outputs": [
    {
     "data": {
      "text/html": [
       "<div>\n",
       "<style scoped>\n",
       "    .dataframe tbody tr th:only-of-type {\n",
       "        vertical-align: middle;\n",
       "    }\n",
       "\n",
       "    .dataframe tbody tr th {\n",
       "        vertical-align: top;\n",
       "    }\n",
       "\n",
       "    .dataframe thead th {\n",
       "        text-align: right;\n",
       "    }\n",
       "</style>\n",
       "<table border=\"1\" class=\"dataframe\">\n",
       "  <thead>\n",
       "    <tr style=\"text-align: right;\">\n",
       "      <th></th>\n",
       "      <th>data_source_title</th>\n",
       "      <th>report_type_title</th>\n",
       "      <th>field_title</th>\n",
       "      <th>sql_field_name</th>\n",
       "      <th>api_field_name</th>\n",
       "    </tr>\n",
       "  </thead>\n",
       "  <tbody>\n",
       "    <tr>\n",
       "      <th>0</th>\n",
       "      <td>acme</td>\n",
       "      <td>transactions</td>\n",
       "      <td>sale channel</td>\n",
       "      <td>sale_channel</td>\n",
       "      <td>salechannel</td>\n",
       "    </tr>\n",
       "    <tr>\n",
       "      <th>1</th>\n",
       "      <td>acme</td>\n",
       "      <td>transactions</td>\n",
       "      <td>purchase type</td>\n",
       "      <td>purchase_type</td>\n",
       "      <td>purchasetype</td>\n",
       "    </tr>\n",
       "    <tr>\n",
       "      <th>2</th>\n",
       "      <td>acme</td>\n",
       "      <td>transactions</td>\n",
       "      <td>payment status</td>\n",
       "      <td>payment_status</td>\n",
       "      <td>paymentstatus</td>\n",
       "    </tr>\n",
       "    <tr>\n",
       "      <th>3</th>\n",
       "      <td>acme</td>\n",
       "      <td>transactions</td>\n",
       "      <td>payment method</td>\n",
       "      <td>payment_method</td>\n",
       "      <td>paymentmethod</td>\n",
       "    </tr>\n",
       "    <tr>\n",
       "      <th>4</th>\n",
       "      <td>acme</td>\n",
       "      <td>transactions</td>\n",
       "      <td>payment due date</td>\n",
       "      <td>payment_due_date</td>\n",
       "      <td>paymentduedate</td>\n",
       "    </tr>\n",
       "  </tbody>\n",
       "</table>\n",
       "</div>"
      ],
      "text/plain": [
       "  data_source_title report_type_title       field_title    sql_field_name  \\\n",
       "0              acme      transactions      sale channel      sale_channel   \n",
       "1              acme      transactions     purchase type     purchase_type   \n",
       "2              acme      transactions    payment status    payment_status   \n",
       "3              acme      transactions    payment method    payment_method   \n",
       "4              acme      transactions  payment due date  payment_due_date   \n",
       "\n",
       "   api_field_name  \n",
       "0     salechannel  \n",
       "1    purchasetype  \n",
       "2   paymentstatus  \n",
       "3   paymentmethod  \n",
       "4  paymentduedate  "
      ]
     },
     "execution_count": 157,
     "metadata": {},
     "output_type": "execute_result"
    }
   ],
   "source": [
    "df_lower.head()"
   ]
  },
  {
   "cell_type": "code",
   "execution_count": 146,
   "id": "835298fb",
   "metadata": {
    "ExecuteTime": {
     "end_time": "2022-10-09T23:30:17.597090Z",
     "start_time": "2022-10-09T23:30:17.447194Z"
    }
   },
   "outputs": [
    {
     "data": {
      "text/html": [
       "<div>\n",
       "<style scoped>\n",
       "    .dataframe tbody tr th:only-of-type {\n",
       "        vertical-align: middle;\n",
       "    }\n",
       "\n",
       "    .dataframe tbody tr th {\n",
       "        vertical-align: top;\n",
       "    }\n",
       "\n",
       "    .dataframe thead th {\n",
       "        text-align: right;\n",
       "    }\n",
       "</style>\n",
       "<table border=\"1\" class=\"dataframe\">\n",
       "  <thead>\n",
       "    <tr style=\"text-align: right;\">\n",
       "      <th></th>\n",
       "      <th>data_source_title</th>\n",
       "      <th>report_type_title</th>\n",
       "      <th>field_title</th>\n",
       "      <th>sql_field_name</th>\n",
       "      <th>api_field_name</th>\n",
       "    </tr>\n",
       "  </thead>\n",
       "  <tbody>\n",
       "    <tr>\n",
       "      <th>0</th>\n",
       "      <td>acme</td>\n",
       "      <td>transactions</td>\n",
       "      <td>sale channel</td>\n",
       "      <td>sale_channel</td>\n",
       "      <td>salechannel</td>\n",
       "    </tr>\n",
       "    <tr>\n",
       "      <th>1</th>\n",
       "      <td>acme</td>\n",
       "      <td>transactions</td>\n",
       "      <td>purchase type</td>\n",
       "      <td>purchase_type</td>\n",
       "      <td>purchasetype</td>\n",
       "    </tr>\n",
       "    <tr>\n",
       "      <th>2</th>\n",
       "      <td>acme</td>\n",
       "      <td>transactions</td>\n",
       "      <td>payment status</td>\n",
       "      <td>payment_status</td>\n",
       "      <td>paymentstatus</td>\n",
       "    </tr>\n",
       "    <tr>\n",
       "      <th>3</th>\n",
       "      <td>acme</td>\n",
       "      <td>transactions</td>\n",
       "      <td>payment method</td>\n",
       "      <td>payment_method</td>\n",
       "      <td>paymentmethod</td>\n",
       "    </tr>\n",
       "    <tr>\n",
       "      <th>4</th>\n",
       "      <td>acme</td>\n",
       "      <td>transactions</td>\n",
       "      <td>payment due date</td>\n",
       "      <td>payment_due_date</td>\n",
       "      <td>paymentduedate</td>\n",
       "    </tr>\n",
       "    <tr>\n",
       "      <th>...</th>\n",
       "      <td>...</td>\n",
       "      <td>...</td>\n",
       "      <td>...</td>\n",
       "      <td>...</td>\n",
       "      <td>...</td>\n",
       "    </tr>\n",
       "    <tr>\n",
       "      <th>31061</th>\n",
       "      <td>zignal labs</td>\n",
       "      <td>newsroom stories</td>\n",
       "      <td>source</td>\n",
       "      <td>source</td>\n",
       "      <td>source</td>\n",
       "    </tr>\n",
       "    <tr>\n",
       "      <th>31062</th>\n",
       "      <td>zignal labs</td>\n",
       "      <td>newsroom stories</td>\n",
       "      <td>title</td>\n",
       "      <td>title</td>\n",
       "      <td>title</td>\n",
       "    </tr>\n",
       "    <tr>\n",
       "      <th>31068</th>\n",
       "      <td>zignal labs</td>\n",
       "      <td>key metrics</td>\n",
       "      <td>positive</td>\n",
       "      <td>positive</td>\n",
       "      <td>sentiment.sentiment.positive</td>\n",
       "    </tr>\n",
       "    <tr>\n",
       "      <th>31074</th>\n",
       "      <td>zignal labs</td>\n",
       "      <td>newsroom stories</td>\n",
       "      <td>url</td>\n",
       "      <td>url</td>\n",
       "      <td>url</td>\n",
       "    </tr>\n",
       "    <tr>\n",
       "      <th>31075</th>\n",
       "      <td>zignal labs</td>\n",
       "      <td>newsroom stories</td>\n",
       "      <td>sentiment</td>\n",
       "      <td>sentiment</td>\n",
       "      <td>sentiment</td>\n",
       "    </tr>\n",
       "  </tbody>\n",
       "</table>\n",
       "<p>16178 rows × 5 columns</p>\n",
       "</div>"
      ],
      "text/plain": [
       "      data_source_title report_type_title       field_title    sql_field_name  \\\n",
       "0                  acme      transactions      sale channel      sale_channel   \n",
       "1                  acme      transactions     purchase type     purchase_type   \n",
       "2                  acme      transactions    payment status    payment_status   \n",
       "3                  acme      transactions    payment method    payment_method   \n",
       "4                  acme      transactions  payment due date  payment_due_date   \n",
       "...                 ...               ...               ...               ...   \n",
       "31061       zignal labs  newsroom stories            source            source   \n",
       "31062       zignal labs  newsroom stories             title             title   \n",
       "31068       zignal labs       key metrics          positive          positive   \n",
       "31074       zignal labs  newsroom stories               url               url   \n",
       "31075       zignal labs  newsroom stories         sentiment         sentiment   \n",
       "\n",
       "                     api_field_name  \n",
       "0                       salechannel  \n",
       "1                      purchasetype  \n",
       "2                     paymentstatus  \n",
       "3                     paymentmethod  \n",
       "4                    paymentduedate  \n",
       "...                             ...  \n",
       "31061                        source  \n",
       "31062                         title  \n",
       "31068  sentiment.sentiment.positive  \n",
       "31074                           url  \n",
       "31075                     sentiment  \n",
       "\n",
       "[16178 rows x 5 columns]"
      ]
     },
     "execution_count": 146,
     "metadata": {},
     "output_type": "execute_result"
    }
   ],
   "source": [
    "df_lower[\n",
    "    df_lower[\"sql_field_name\"].str.contains(\n",
    "        \"channel|type|status|method|date|sentiment|url|id|num|name|code|city|time|last|subject|dayofweek|dayofmonth|data|os|origin|title|link|when|browser|ip|detail|utc|currency|weekday|system|source|region|country|domain|platform|group|campaign|token|language|color|carrier|dma|java|latlon|category|engine|company|rank|service|state|server|agent|hash|keyword|tactic|usd|policy|brand|condition|local|version|key|format|area\"\n",
    "    )\n",
    "]"
   ]
  },
  {
   "cell_type": "code",
   "execution_count": 147,
   "id": "25ea772f",
   "metadata": {
    "ExecuteTime": {
     "end_time": "2022-10-09T23:30:29.820006Z",
     "start_time": "2022-10-09T23:30:29.658378Z"
    }
   },
   "outputs": [],
   "source": [
    "temp_df = df_lower[\n",
    "    ~df_lower[\"sql_field_name\"].str.contains(\n",
    "        \"channel|type|status|method|date|sentiment|url|id|num|name|code|city|time|last|subject|dayofweek|dayofmonth|data|os|origin|title|link|when|browser|ip|detail|utc|currency|weekday|system|source|region|country|domain|platform|group|campaign|token|language|color|carrier|dma|java|latlon|category|engine|company|rank|service|state|server|agent|hash|keyword|tactic|usd|policy|brand|condition|local|version|key|format|area\"\n",
    "    )\n",
    "]"
   ]
  },
  {
   "cell_type": "code",
   "execution_count": 148,
   "id": "394d82de",
   "metadata": {
    "ExecuteTime": {
     "end_time": "2022-10-09T23:30:30.985801Z",
     "start_time": "2022-10-09T23:30:30.962813Z"
    }
   },
   "outputs": [
    {
     "data": {
      "text/html": [
       "<div>\n",
       "<style scoped>\n",
       "    .dataframe tbody tr th:only-of-type {\n",
       "        vertical-align: middle;\n",
       "    }\n",
       "\n",
       "    .dataframe tbody tr th {\n",
       "        vertical-align: top;\n",
       "    }\n",
       "\n",
       "    .dataframe thead th {\n",
       "        text-align: right;\n",
       "    }\n",
       "</style>\n",
       "<table border=\"1\" class=\"dataframe\">\n",
       "  <thead>\n",
       "    <tr style=\"text-align: right;\">\n",
       "      <th></th>\n",
       "      <th>data_source_title</th>\n",
       "      <th>report_type_title</th>\n",
       "      <th>field_title</th>\n",
       "      <th>sql_field_name</th>\n",
       "      <th>api_field_name</th>\n",
       "    </tr>\n",
       "  </thead>\n",
       "  <tbody>\n",
       "    <tr>\n",
       "      <th>14</th>\n",
       "      <td>acme</td>\n",
       "      <td>transactions</td>\n",
       "      <td>add on</td>\n",
       "      <td>add_on</td>\n",
       "      <td>addon</td>\n",
       "    </tr>\n",
       "    <tr>\n",
       "      <th>18</th>\n",
       "      <td>acme</td>\n",
       "      <td>transactions</td>\n",
       "      <td>transaction amount</td>\n",
       "      <td>transaction_amount</td>\n",
       "      <td>transactionamount</td>\n",
       "    </tr>\n",
       "    <tr>\n",
       "      <th>19</th>\n",
       "      <td>acme</td>\n",
       "      <td>transactions</td>\n",
       "      <td>quantity</td>\n",
       "      <td>quantity</td>\n",
       "      <td>quantity</td>\n",
       "    </tr>\n",
       "    <tr>\n",
       "      <th>20</th>\n",
       "      <td>acme</td>\n",
       "      <td>transactions</td>\n",
       "      <td>payment amount</td>\n",
       "      <td>payment_amount</td>\n",
       "      <td>paymentamount</td>\n",
       "    </tr>\n",
       "    <tr>\n",
       "      <th>21</th>\n",
       "      <td>acme</td>\n",
       "      <td>transactions</td>\n",
       "      <td>order balance</td>\n",
       "      <td>order_balance</td>\n",
       "      <td>orderbalance</td>\n",
       "    </tr>\n",
       "    <tr>\n",
       "      <th>...</th>\n",
       "      <td>...</td>\n",
       "      <td>...</td>\n",
       "      <td>...</td>\n",
       "      <td>...</td>\n",
       "      <td>...</td>\n",
       "    </tr>\n",
       "    <tr>\n",
       "      <th>31069</th>\n",
       "      <td>zignal labs</td>\n",
       "      <td>key metrics</td>\n",
       "      <td>impressions news blogs</td>\n",
       "      <td>impressions_news_blogs</td>\n",
       "      <td>:calc.impressions_news_blogs</td>\n",
       "    </tr>\n",
       "    <tr>\n",
       "      <th>31070</th>\n",
       "      <td>zignal labs</td>\n",
       "      <td>key metrics</td>\n",
       "      <td>social</td>\n",
       "      <td>social</td>\n",
       "      <td>:calc.social</td>\n",
       "    </tr>\n",
       "    <tr>\n",
       "      <th>31071</th>\n",
       "      <td>zignal labs</td>\n",
       "      <td>key metrics</td>\n",
       "      <td>news blogs</td>\n",
       "      <td>news_blogs</td>\n",
       "      <td>:calc.news_blogs</td>\n",
       "    </tr>\n",
       "    <tr>\n",
       "      <th>31072</th>\n",
       "      <td>zignal labs</td>\n",
       "      <td>key metrics</td>\n",
       "      <td>total mentions</td>\n",
       "      <td>total_mentions</td>\n",
       "      <td>mentions.count</td>\n",
       "    </tr>\n",
       "    <tr>\n",
       "      <th>31073</th>\n",
       "      <td>zignal labs</td>\n",
       "      <td>key metrics</td>\n",
       "      <td>mqs</td>\n",
       "      <td>mqs</td>\n",
       "      <td>mqs.media_quality_score</td>\n",
       "    </tr>\n",
       "  </tbody>\n",
       "</table>\n",
       "<p>14898 rows × 5 columns</p>\n",
       "</div>"
      ],
      "text/plain": [
       "      data_source_title report_type_title             field_title  \\\n",
       "14                 acme      transactions                  add on   \n",
       "18                 acme      transactions      transaction amount   \n",
       "19                 acme      transactions                quantity   \n",
       "20                 acme      transactions          payment amount   \n",
       "21                 acme      transactions           order balance   \n",
       "...                 ...               ...                     ...   \n",
       "31069       zignal labs       key metrics  impressions news blogs   \n",
       "31070       zignal labs       key metrics                  social   \n",
       "31071       zignal labs       key metrics              news blogs   \n",
       "31072       zignal labs       key metrics          total mentions   \n",
       "31073       zignal labs       key metrics                     mqs   \n",
       "\n",
       "               sql_field_name                api_field_name  \n",
       "14                     add_on                         addon  \n",
       "18         transaction_amount             transactionamount  \n",
       "19                   quantity                      quantity  \n",
       "20             payment_amount                 paymentamount  \n",
       "21              order_balance                  orderbalance  \n",
       "...                       ...                           ...  \n",
       "31069  impressions_news_blogs  :calc.impressions_news_blogs  \n",
       "31070                  social                  :calc.social  \n",
       "31071              news_blogs              :calc.news_blogs  \n",
       "31072          total_mentions                mentions.count  \n",
       "31073                     mqs       mqs.media_quality_score  \n",
       "\n",
       "[14898 rows x 5 columns]"
      ]
     },
     "execution_count": 148,
     "metadata": {},
     "output_type": "execute_result"
    }
   ],
   "source": [
    "temp_df"
   ]
  },
  {
   "attachments": {
    "image.png": {
     "image/png": "[encoded data removed]"
    }
   },
   "cell_type": "markdown",
   "id": "9bcdffa6",
   "metadata": {},
   "source": [
    "Suggestion for correction on the website: 'ip_address' instead of 'ip_adress'\n",
    "![image.png](attachment:image.png)"
   ]
  },
  {
   "cell_type": "code",
   "execution_count": 156,
   "id": "c0a47065",
   "metadata": {
    "ExecuteTime": {
     "end_time": "2022-10-09T23:43:10.941006Z",
     "start_time": "2022-10-09T23:43:10.918006Z"
    }
   },
   "outputs": [
    {
     "data": {
      "text/plain": [
       "0.4794053288711546"
      ]
     },
     "execution_count": 156,
     "metadata": {},
     "output_type": "execute_result"
    }
   ],
   "source": [
    "metrics = temp_df.shape[0]\n",
    "total = df.shape[0]\n",
    "percent = metrics/total\n",
    "percent"
   ]
  }
 ],
 "metadata": {
  "kernelspec": {
   "display_name": "Python 3 (ipykernel)",
   "language": "python",
   "name": "python3"
  },
  "language_info": {
   "codemirror_mode": {
    "name": "ipython",
    "version": 3
   },
   "file_extension": ".py",
   "mimetype": "text/x-python",
   "name": "python",
   "nbconvert_exporter": "python",
   "pygments_lexer": "ipython3",
   "version": "3.8.5"
  }
 },
 "nbformat": 4,
 "nbformat_minor": 5
}

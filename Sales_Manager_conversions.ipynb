{
 "cells": [
  {
   "cell_type": "markdown",
   "id": "1a5472f3",
   "metadata": {},
   "source": [
    "# Sales Manager conversions"
   ]
  },
  {
   "attachments": {},
   "cell_type": "markdown",
   "id": "3e43bf3c",
   "metadata": {},
   "source": [
    "In this task we need to calculate conversion rate from touch to deal and to find the best manager."
   ]
  },
  {
   "cell_type": "code",
   "execution_count": 1,
   "id": "22856c62",
   "metadata": {
    "ExecuteTime": {
     "end_time": "2022-10-10T05:18:26.832132Z",
     "start_time": "2022-10-10T05:18:18.325109Z"
    }
   },
   "outputs": [
    {
     "data": {
      "text/html": [
       "<div>\n",
       "<style scoped>\n",
       "    .dataframe tbody tr th:only-of-type {\n",
       "        vertical-align: middle;\n",
       "    }\n",
       "\n",
       "    .dataframe tbody tr th {\n",
       "        vertical-align: top;\n",
       "    }\n",
       "\n",
       "    .dataframe thead th {\n",
       "        text-align: right;\n",
       "    }\n",
       "</style>\n",
       "<table border=\"1\" class=\"dataframe\">\n",
       "  <thead>\n",
       "    <tr style=\"text-align: right;\">\n",
       "      <th></th>\n",
       "      <th>client_account_id</th>\n",
       "      <th>date</th>\n",
       "      <th>event_name</th>\n",
       "      <th>manager_id</th>\n",
       "      <th>manager_nickname</th>\n",
       "    </tr>\n",
       "  </thead>\n",
       "  <tbody>\n",
       "    <tr>\n",
       "      <th>0</th>\n",
       "      <td>0</td>\n",
       "      <td>2022-05-09</td>\n",
       "      <td>first_touch</td>\n",
       "      <td>1.0</td>\n",
       "      <td>Justin Beiber</td>\n",
       "    </tr>\n",
       "    <tr>\n",
       "      <th>1</th>\n",
       "      <td>1</td>\n",
       "      <td>2022-03-21</td>\n",
       "      <td>first_touch</td>\n",
       "      <td>3.0</td>\n",
       "      <td>Joe Biden</td>\n",
       "    </tr>\n",
       "    <tr>\n",
       "      <th>2</th>\n",
       "      <td>2</td>\n",
       "      <td>2022-04-18</td>\n",
       "      <td>first_touch</td>\n",
       "      <td>2.0</td>\n",
       "      <td>Kylie Jenner</td>\n",
       "    </tr>\n",
       "    <tr>\n",
       "      <th>3</th>\n",
       "      <td>3</td>\n",
       "      <td>2022-02-07</td>\n",
       "      <td>first_touch</td>\n",
       "      <td>2.0</td>\n",
       "      <td>Kylie Jenner</td>\n",
       "    </tr>\n",
       "    <tr>\n",
       "      <th>4</th>\n",
       "      <td>4</td>\n",
       "      <td>2022-04-08</td>\n",
       "      <td>first_touch</td>\n",
       "      <td>1.0</td>\n",
       "      <td>Justin Beiber</td>\n",
       "    </tr>\n",
       "  </tbody>\n",
       "</table>\n",
       "</div>"
      ],
      "text/plain": [
       "   client_account_id        date   event_name  manager_id manager_nickname\n",
       "0                  0  2022-05-09  first_touch         1.0    Justin Beiber\n",
       "1                  1  2022-03-21  first_touch         3.0        Joe Biden\n",
       "2                  2  2022-04-18  first_touch         2.0     Kylie Jenner\n",
       "3                  3  2022-02-07  first_touch         2.0     Kylie Jenner\n",
       "4                  4  2022-04-08  first_touch         1.0    Justin Beiber"
      ]
     },
     "execution_count": 1,
     "metadata": {},
     "output_type": "execute_result"
    }
   ],
   "source": [
    "import pandas as pd\n",
    "\n",
    "df = pd.read_csv(\"best_salesman_homework.csv\")\n",
    "\n",
    "df.head()"
   ]
  },
  {
   "cell_type": "code",
   "execution_count": 2,
   "id": "09c69723",
   "metadata": {
    "ExecuteTime": {
     "end_time": "2022-10-10T05:18:30.462204Z",
     "start_time": "2022-10-10T05:18:30.443234Z"
    }
   },
   "outputs": [
    {
     "data": {
      "text/plain": [
       "(3183, 5)"
      ]
     },
     "execution_count": 2,
     "metadata": {},
     "output_type": "execute_result"
    }
   ],
   "source": [
    "df.shape"
   ]
  },
  {
   "cell_type": "code",
   "execution_count": 32,
   "id": "30c22333",
   "metadata": {
    "ExecuteTime": {
     "end_time": "2022-10-10T05:48:38.420249Z",
     "start_time": "2022-10-10T05:48:38.384255Z"
    }
   },
   "outputs": [],
   "source": [
    "df['date'] = pd.to_datetime(df['date'])"
   ]
  },
  {
   "cell_type": "markdown",
   "id": "28b33fe0",
   "metadata": {},
   "source": [
    "We can see that most of the clients remain in the status 'first_touch'.\n",
    "We can make two tables:\n",
    "- the first table with only 'first_touch' cliets;\n",
    "- the second table with clients achieved 'deal' status."
   ]
  },
  {
   "cell_type": "code",
   "execution_count": 53,
   "id": "8ed74ca5",
   "metadata": {
    "ExecuteTime": {
     "end_time": "2022-10-10T06:32:23.004735Z",
     "start_time": "2022-10-10T06:32:22.982766Z"
    }
   },
   "outputs": [
    {
     "data": {
      "text/plain": [
       "2791"
      ]
     },
     "execution_count": 53,
     "metadata": {},
     "output_type": "execute_result"
    }
   ],
   "source": [
    "# customers with only 'first_touch' status\n",
    "v = df.client_account_id.value_counts()\n",
    "df1 = df[df.client_account_id.isin(v.index[v.eq(1)])]\n",
    "df1.shape[0]"
   ]
  },
  {
   "cell_type": "code",
   "execution_count": 56,
   "id": "dcf2cd02",
   "metadata": {
    "ExecuteTime": {
     "end_time": "2022-10-10T06:33:18.765126Z",
     "start_time": "2022-10-10T06:33:18.739138Z"
    }
   },
   "outputs": [
    {
     "data": {
      "text/html": [
       "<div>\n",
       "<style scoped>\n",
       "    .dataframe tbody tr th:only-of-type {\n",
       "        vertical-align: middle;\n",
       "    }\n",
       "\n",
       "    .dataframe tbody tr th {\n",
       "        vertical-align: top;\n",
       "    }\n",
       "\n",
       "    .dataframe thead th {\n",
       "        text-align: right;\n",
       "    }\n",
       "</style>\n",
       "<table border=\"1\" class=\"dataframe\">\n",
       "  <thead>\n",
       "    <tr style=\"text-align: right;\">\n",
       "      <th></th>\n",
       "      <th>client_account_id</th>\n",
       "      <th>date</th>\n",
       "      <th>event_name</th>\n",
       "      <th>manager_id</th>\n",
       "      <th>manager_nickname</th>\n",
       "    </tr>\n",
       "  </thead>\n",
       "  <tbody>\n",
       "    <tr>\n",
       "      <th>40</th>\n",
       "      <td>40</td>\n",
       "      <td>2022-05-02</td>\n",
       "      <td>first_touch</td>\n",
       "      <td>1.0</td>\n",
       "      <td>Justin Beiber</td>\n",
       "    </tr>\n",
       "    <tr>\n",
       "      <th>41</th>\n",
       "      <td>40</td>\n",
       "      <td>2022-02-24</td>\n",
       "      <td>deal</td>\n",
       "      <td>3.0</td>\n",
       "      <td>Joe Biden</td>\n",
       "    </tr>\n",
       "    <tr>\n",
       "      <th>64</th>\n",
       "      <td>63</td>\n",
       "      <td>2022-02-03</td>\n",
       "      <td>first_touch</td>\n",
       "      <td>1.0</td>\n",
       "      <td>Justin Beiber</td>\n",
       "    </tr>\n",
       "    <tr>\n",
       "      <th>65</th>\n",
       "      <td>63</td>\n",
       "      <td>2022-03-14</td>\n",
       "      <td>deal</td>\n",
       "      <td>2.0</td>\n",
       "      <td>Kylie Jenner</td>\n",
       "    </tr>\n",
       "    <tr>\n",
       "      <th>88</th>\n",
       "      <td>86</td>\n",
       "      <td>2021-12-17</td>\n",
       "      <td>first_touch</td>\n",
       "      <td>3.0</td>\n",
       "      <td>Joe Biden</td>\n",
       "    </tr>\n",
       "  </tbody>\n",
       "</table>\n",
       "</div>"
      ],
      "text/plain": [
       "    client_account_id       date   event_name  manager_id manager_nickname\n",
       "40                 40 2022-05-02  first_touch         1.0    Justin Beiber\n",
       "41                 40 2022-02-24         deal         3.0        Joe Biden\n",
       "64                 63 2022-02-03  first_touch         1.0    Justin Beiber\n",
       "65                 63 2022-03-14         deal         2.0     Kylie Jenner\n",
       "88                 86 2021-12-17  first_touch         3.0        Joe Biden"
      ]
     },
     "execution_count": 56,
     "metadata": {},
     "output_type": "execute_result"
    }
   ],
   "source": [
    "# customers with 'deal' status\n",
    "v = df.client_account_id.value_counts()\n",
    "df2 = df[df.client_account_id.isin(v.index[v.gt(1)])]\n",
    "df2.head()"
   ]
  },
  {
   "cell_type": "markdown",
   "id": "b44db0c3",
   "metadata": {},
   "source": [
    "Let's modify the 2nd dataframe and make one row for one customer."
   ]
  },
  {
   "cell_type": "code",
   "execution_count": 79,
   "id": "777cab06",
   "metadata": {
    "ExecuteTime": {
     "end_time": "2022-10-10T07:35:25.001931Z",
     "start_time": "2022-10-10T07:35:24.984960Z"
    }
   },
   "outputs": [],
   "source": [
    "df_first_touch = df2[df2['event_name'] == 'first_touch']\n",
    "df_deal = df2[df2['event_name'] == 'deal']\n",
    "df_merged = df_first_touch.merge(df_deal, on='client_account_id', how = 'left')"
   ]
  },
  {
   "cell_type": "markdown",
   "id": "58f471e6",
   "metadata": {},
   "source": [
    "I noticed that for some customers the 'deal' status happened earlier than 'one_touch'. \n",
    "Probably there is a mistake. If the customer already made a purchase, there was obviously some touchpoint before the 'deal', that is why the 'first_touch' for this customer looses its value. \n",
    "As in this task we calculate conversion rate for the first touch customers, we can delete customers who do not meet these conditions."
   ]
  },
  {
   "cell_type": "code",
   "execution_count": 80,
   "id": "4d131adb",
   "metadata": {
    "ExecuteTime": {
     "end_time": "2022-10-10T07:35:28.309916Z",
     "start_time": "2022-10-10T07:35:28.301920Z"
    }
   },
   "outputs": [],
   "source": [
    "df_merged['date_diff'] = (df_merged['date_y'] - df_merged['date_x']).astype('int64')//86400000000000"
   ]
  },
  {
   "cell_type": "code",
   "execution_count": 81,
   "id": "bde857f8",
   "metadata": {
    "ExecuteTime": {
     "end_time": "2022-10-10T07:35:29.574933Z",
     "start_time": "2022-10-10T07:35:29.552945Z"
    }
   },
   "outputs": [
    {
     "data": {
      "text/html": [
       "<div>\n",
       "<style scoped>\n",
       "    .dataframe tbody tr th:only-of-type {\n",
       "        vertical-align: middle;\n",
       "    }\n",
       "\n",
       "    .dataframe tbody tr th {\n",
       "        vertical-align: top;\n",
       "    }\n",
       "\n",
       "    .dataframe thead th {\n",
       "        text-align: right;\n",
       "    }\n",
       "</style>\n",
       "<table border=\"1\" class=\"dataframe\">\n",
       "  <thead>\n",
       "    <tr style=\"text-align: right;\">\n",
       "      <th></th>\n",
       "      <th>client_account_id</th>\n",
       "      <th>date_x</th>\n",
       "      <th>event_name_x</th>\n",
       "      <th>manager_id_x</th>\n",
       "      <th>manager_nickname_x</th>\n",
       "      <th>date_y</th>\n",
       "      <th>event_name_y</th>\n",
       "      <th>manager_id_y</th>\n",
       "      <th>manager_nickname_y</th>\n",
       "      <th>date_diff</th>\n",
       "    </tr>\n",
       "  </thead>\n",
       "  <tbody>\n",
       "    <tr>\n",
       "      <th>0</th>\n",
       "      <td>40</td>\n",
       "      <td>2022-05-02</td>\n",
       "      <td>first_touch</td>\n",
       "      <td>1.0</td>\n",
       "      <td>Justin Beiber</td>\n",
       "      <td>2022-02-24</td>\n",
       "      <td>deal</td>\n",
       "      <td>3.0</td>\n",
       "      <td>Joe Biden</td>\n",
       "      <td>-67</td>\n",
       "    </tr>\n",
       "    <tr>\n",
       "      <th>1</th>\n",
       "      <td>63</td>\n",
       "      <td>2022-02-03</td>\n",
       "      <td>first_touch</td>\n",
       "      <td>1.0</td>\n",
       "      <td>Justin Beiber</td>\n",
       "      <td>2022-03-14</td>\n",
       "      <td>deal</td>\n",
       "      <td>2.0</td>\n",
       "      <td>Kylie Jenner</td>\n",
       "      <td>39</td>\n",
       "    </tr>\n",
       "    <tr>\n",
       "      <th>2</th>\n",
       "      <td>86</td>\n",
       "      <td>2021-12-17</td>\n",
       "      <td>first_touch</td>\n",
       "      <td>3.0</td>\n",
       "      <td>Joe Biden</td>\n",
       "      <td>2022-05-24</td>\n",
       "      <td>deal</td>\n",
       "      <td>1.0</td>\n",
       "      <td>Justin Beiber</td>\n",
       "      <td>158</td>\n",
       "    </tr>\n",
       "    <tr>\n",
       "      <th>3</th>\n",
       "      <td>87</td>\n",
       "      <td>2022-05-30</td>\n",
       "      <td>first_touch</td>\n",
       "      <td>1.0</td>\n",
       "      <td>Justin Beiber</td>\n",
       "      <td>2022-05-23</td>\n",
       "      <td>deal</td>\n",
       "      <td>2.0</td>\n",
       "      <td>Kylie Jenner</td>\n",
       "      <td>-7</td>\n",
       "    </tr>\n",
       "    <tr>\n",
       "      <th>4</th>\n",
       "      <td>127</td>\n",
       "      <td>2022-05-22</td>\n",
       "      <td>first_touch</td>\n",
       "      <td>1.0</td>\n",
       "      <td>Justin Beiber</td>\n",
       "      <td>2021-08-30</td>\n",
       "      <td>deal</td>\n",
       "      <td>3.0</td>\n",
       "      <td>Joe Biden</td>\n",
       "      <td>-265</td>\n",
       "    </tr>\n",
       "  </tbody>\n",
       "</table>\n",
       "</div>"
      ],
      "text/plain": [
       "   client_account_id     date_x event_name_x  manager_id_x manager_nickname_x  \\\n",
       "0                 40 2022-05-02  first_touch           1.0      Justin Beiber   \n",
       "1                 63 2022-02-03  first_touch           1.0      Justin Beiber   \n",
       "2                 86 2021-12-17  first_touch           3.0          Joe Biden   \n",
       "3                 87 2022-05-30  first_touch           1.0      Justin Beiber   \n",
       "4                127 2022-05-22  first_touch           1.0      Justin Beiber   \n",
       "\n",
       "      date_y event_name_y  manager_id_y manager_nickname_y  date_diff  \n",
       "0 2022-02-24         deal           3.0          Joe Biden        -67  \n",
       "1 2022-03-14         deal           2.0       Kylie Jenner         39  \n",
       "2 2022-05-24         deal           1.0      Justin Beiber        158  \n",
       "3 2022-05-23         deal           2.0       Kylie Jenner         -7  \n",
       "4 2021-08-30         deal           3.0          Joe Biden       -265  "
      ]
     },
     "execution_count": 81,
     "metadata": {},
     "output_type": "execute_result"
    }
   ],
   "source": [
    "df_merged.head()"
   ]
  },
  {
   "cell_type": "code",
   "execution_count": 74,
   "id": "352c7a0c",
   "metadata": {
    "ExecuteTime": {
     "end_time": "2022-10-10T07:29:28.354662Z",
     "start_time": "2022-10-10T07:29:28.337680Z"
    }
   },
   "outputs": [
    {
     "data": {
      "text/plain": [
       "116"
      ]
     },
     "execution_count": 74,
     "metadata": {},
     "output_type": "execute_result"
    }
   ],
   "source": [
    "index_names = df_merged[df_merged['date_diff'] < 0].index\n",
    "df_updated = df_merged.drop(index_names)\n",
    "df_updated.shape[0]"
   ]
  },
  {
   "cell_type": "code",
   "execution_count": 83,
   "id": "2ff4ba2f",
   "metadata": {
    "ExecuteTime": {
     "end_time": "2022-10-10T07:36:07.565985Z",
     "start_time": "2022-10-10T07:36:07.549985Z"
    }
   },
   "outputs": [],
   "source": [
    "accounts_to_del = list(df_merged[df_merged['date_diff'] < 0]['client_account_id'])"
   ]
  },
  {
   "attachments": {},
   "cell_type": "markdown",
   "id": "23fd7105",
   "metadata": {},
   "source": [
    "Now we can calculate **conversion rate**.\n",
    "\n",
    "$$\n",
    "  CR = \\frac{Number of deals}{Number of touches} 100\n",
    "$$"
   ]
  },
  {
   "cell_type": "code",
   "execution_count": 75,
   "id": "4982d2af",
   "metadata": {
    "ExecuteTime": {
     "end_time": "2022-10-10T07:29:46.653034Z",
     "start_time": "2022-10-10T07:29:46.632045Z"
    }
   },
   "outputs": [
    {
     "name": "stdout",
     "output_type": "stream",
     "text": [
      "Conversion Rate for the whole Sales group: 3.990368077055383\n"
     ]
    }
   ],
   "source": [
    "CR = df_updated.shape[0]/(df_updated.shape[0] + df1.shape[0]) * 100\n",
    "print(f'Conversion Rate for the whole Sales group: {CR}')"
   ]
  },
  {
   "cell_type": "markdown",
   "id": "527a0036",
   "metadata": {},
   "source": [
    "Let's calculate conversion rate for each manager."
   ]
  },
  {
   "cell_type": "code",
   "execution_count": 67,
   "id": "db10305c",
   "metadata": {
    "ExecuteTime": {
     "end_time": "2022-10-10T07:26:09.708206Z",
     "start_time": "2022-10-10T07:26:09.691216Z"
    }
   },
   "outputs": [
    {
     "data": {
      "text/plain": [
       "array([1., 3., 2.])"
      ]
     },
     "execution_count": 67,
     "metadata": {},
     "output_type": "execute_result"
    }
   ],
   "source": [
    "df.manager_id.unique()"
   ]
  },
  {
   "cell_type": "code",
   "execution_count": 86,
   "id": "d3122139",
   "metadata": {
    "ExecuteTime": {
     "end_time": "2022-10-10T07:38:52.240987Z",
     "start_time": "2022-10-10T07:38:52.213984Z"
    }
   },
   "outputs": [
    {
     "data": {
      "text/html": [
       "<div>\n",
       "<style scoped>\n",
       "    .dataframe tbody tr th:only-of-type {\n",
       "        vertical-align: middle;\n",
       "    }\n",
       "\n",
       "    .dataframe tbody tr th {\n",
       "        vertical-align: top;\n",
       "    }\n",
       "\n",
       "    .dataframe thead th {\n",
       "        text-align: right;\n",
       "    }\n",
       "</style>\n",
       "<table border=\"1\" class=\"dataframe\">\n",
       "  <thead>\n",
       "    <tr style=\"text-align: right;\">\n",
       "      <th></th>\n",
       "      <th>client_account_id</th>\n",
       "      <th>date</th>\n",
       "      <th>event_name</th>\n",
       "      <th>manager_id</th>\n",
       "      <th>manager_nickname</th>\n",
       "    </tr>\n",
       "  </thead>\n",
       "  <tbody>\n",
       "    <tr>\n",
       "      <th>0</th>\n",
       "      <td>0</td>\n",
       "      <td>2022-05-09</td>\n",
       "      <td>first_touch</td>\n",
       "      <td>1.0</td>\n",
       "      <td>Justin Beiber</td>\n",
       "    </tr>\n",
       "    <tr>\n",
       "      <th>4</th>\n",
       "      <td>4</td>\n",
       "      <td>2022-04-08</td>\n",
       "      <td>first_touch</td>\n",
       "      <td>1.0</td>\n",
       "      <td>Justin Beiber</td>\n",
       "    </tr>\n",
       "    <tr>\n",
       "      <th>20</th>\n",
       "      <td>20</td>\n",
       "      <td>2022-04-20</td>\n",
       "      <td>first_touch</td>\n",
       "      <td>1.0</td>\n",
       "      <td>Justin Beiber</td>\n",
       "    </tr>\n",
       "    <tr>\n",
       "      <th>25</th>\n",
       "      <td>25</td>\n",
       "      <td>2022-05-15</td>\n",
       "      <td>first_touch</td>\n",
       "      <td>1.0</td>\n",
       "      <td>Justin Beiber</td>\n",
       "    </tr>\n",
       "    <tr>\n",
       "      <th>26</th>\n",
       "      <td>26</td>\n",
       "      <td>2022-02-24</td>\n",
       "      <td>first_touch</td>\n",
       "      <td>1.0</td>\n",
       "      <td>Justin Beiber</td>\n",
       "    </tr>\n",
       "  </tbody>\n",
       "</table>\n",
       "</div>"
      ],
      "text/plain": [
       "    client_account_id       date   event_name  manager_id manager_nickname\n",
       "0                   0 2022-05-09  first_touch         1.0    Justin Beiber\n",
       "4                   4 2022-04-08  first_touch         1.0    Justin Beiber\n",
       "20                 20 2022-04-20  first_touch         1.0    Justin Beiber\n",
       "25                 25 2022-05-15  first_touch         1.0    Justin Beiber\n",
       "26                 26 2022-02-24  first_touch         1.0    Justin Beiber"
      ]
     },
     "execution_count": 86,
     "metadata": {},
     "output_type": "execute_result"
    }
   ],
   "source": [
    "df_manager_1 = df[df['manager_id'] == 1.0]\n",
    "df_manager_1.head()"
   ]
  },
  {
   "cell_type": "code",
   "execution_count": 87,
   "id": "4449cff1",
   "metadata": {
    "ExecuteTime": {
     "end_time": "2022-10-10T07:38:53.069095Z",
     "start_time": "2022-10-10T07:38:53.048111Z"
    }
   },
   "outputs": [],
   "source": [
    "df_manager_1 = df_manager_1[~df_manager_1.client_account_id.isin(accounts_to_del)]"
   ]
  },
  {
   "cell_type": "markdown",
   "id": "743deb58",
   "metadata": {},
   "source": [
    "As we need to calculate conversion rate from touch to deal, we will exclude the clients with the deal status if first_touch was performed by another manager."
   ]
  },
  {
   "cell_type": "code",
   "execution_count": 94,
   "id": "fa237e7d",
   "metadata": {
    "ExecuteTime": {
     "end_time": "2022-10-10T07:50:14.786601Z",
     "start_time": "2022-10-10T07:50:14.773616Z"
    }
   },
   "outputs": [],
   "source": [
    "v1 = df_manager_1.client_account_id.value_counts()\n",
    "df_manager_1_deal = df_manager_1[df_manager_1.client_account_id.isin(v1.index[v1.gt(1)])]\n",
    "df_manager_1_touch = df_manager_1[df_manager_1.client_account_id.isin(v1.index[v1.eq(1)])]"
   ]
  },
  {
   "cell_type": "code",
   "execution_count": 96,
   "id": "d24bf933",
   "metadata": {
    "ExecuteTime": {
     "end_time": "2022-10-10T07:50:41.840250Z",
     "start_time": "2022-10-10T07:50:41.825259Z"
    }
   },
   "outputs": [
    {
     "name": "stdout",
     "output_type": "stream",
     "text": [
      "Conversion Rate for Justin Beiber: 0.9101251422070534\n"
     ]
    }
   ],
   "source": [
    "CR1 = (df_manager_1_deal.shape[0]/2) / (df_manager_1_deal.shape[0]/2 + df_manager_1_touch.shape[0]) * 100\n",
    "print(f'Conversion Rate for Justin Beiber: {CR1}')"
   ]
  },
  {
   "cell_type": "code",
   "execution_count": 97,
   "id": "3fb6e068",
   "metadata": {
    "ExecuteTime": {
     "end_time": "2022-10-10T07:51:20.931333Z",
     "start_time": "2022-10-10T07:51:20.909346Z"
    }
   },
   "outputs": [
    {
     "data": {
      "text/html": [
       "<div>\n",
       "<style scoped>\n",
       "    .dataframe tbody tr th:only-of-type {\n",
       "        vertical-align: middle;\n",
       "    }\n",
       "\n",
       "    .dataframe tbody tr th {\n",
       "        vertical-align: top;\n",
       "    }\n",
       "\n",
       "    .dataframe thead th {\n",
       "        text-align: right;\n",
       "    }\n",
       "</style>\n",
       "<table border=\"1\" class=\"dataframe\">\n",
       "  <thead>\n",
       "    <tr style=\"text-align: right;\">\n",
       "      <th></th>\n",
       "      <th>client_account_id</th>\n",
       "      <th>date</th>\n",
       "      <th>event_name</th>\n",
       "      <th>manager_id</th>\n",
       "      <th>manager_nickname</th>\n",
       "    </tr>\n",
       "  </thead>\n",
       "  <tbody>\n",
       "    <tr>\n",
       "      <th>2</th>\n",
       "      <td>2</td>\n",
       "      <td>2022-04-18</td>\n",
       "      <td>first_touch</td>\n",
       "      <td>2.0</td>\n",
       "      <td>Kylie Jenner</td>\n",
       "    </tr>\n",
       "    <tr>\n",
       "      <th>3</th>\n",
       "      <td>3</td>\n",
       "      <td>2022-02-07</td>\n",
       "      <td>first_touch</td>\n",
       "      <td>2.0</td>\n",
       "      <td>Kylie Jenner</td>\n",
       "    </tr>\n",
       "    <tr>\n",
       "      <th>5</th>\n",
       "      <td>5</td>\n",
       "      <td>2021-09-29</td>\n",
       "      <td>first_touch</td>\n",
       "      <td>2.0</td>\n",
       "      <td>Kylie Jenner</td>\n",
       "    </tr>\n",
       "    <tr>\n",
       "      <th>6</th>\n",
       "      <td>6</td>\n",
       "      <td>2022-04-13</td>\n",
       "      <td>first_touch</td>\n",
       "      <td>2.0</td>\n",
       "      <td>Kylie Jenner</td>\n",
       "    </tr>\n",
       "    <tr>\n",
       "      <th>8</th>\n",
       "      <td>8</td>\n",
       "      <td>2022-02-23</td>\n",
       "      <td>first_touch</td>\n",
       "      <td>2.0</td>\n",
       "      <td>Kylie Jenner</td>\n",
       "    </tr>\n",
       "  </tbody>\n",
       "</table>\n",
       "</div>"
      ],
      "text/plain": [
       "   client_account_id       date   event_name  manager_id manager_nickname\n",
       "2                  2 2022-04-18  first_touch         2.0     Kylie Jenner\n",
       "3                  3 2022-02-07  first_touch         2.0     Kylie Jenner\n",
       "5                  5 2021-09-29  first_touch         2.0     Kylie Jenner\n",
       "6                  6 2022-04-13  first_touch         2.0     Kylie Jenner\n",
       "8                  8 2022-02-23  first_touch         2.0     Kylie Jenner"
      ]
     },
     "execution_count": 97,
     "metadata": {},
     "output_type": "execute_result"
    }
   ],
   "source": [
    "df_manager_2 = df[df['manager_id'] == 2.0]\n",
    "df_manager_2.head()"
   ]
  },
  {
   "cell_type": "code",
   "execution_count": 101,
   "id": "92e524ee",
   "metadata": {
    "ExecuteTime": {
     "end_time": "2022-10-10T07:53:54.510853Z",
     "start_time": "2022-10-10T07:53:54.493863Z"
    }
   },
   "outputs": [],
   "source": [
    "df_manager_2 = df_manager_2[~df_manager_2.client_account_id.isin(accounts_to_del)]"
   ]
  },
  {
   "cell_type": "code",
   "execution_count": 102,
   "id": "fd5b07d1",
   "metadata": {
    "ExecuteTime": {
     "end_time": "2022-10-10T07:53:54.980764Z",
     "start_time": "2022-10-10T07:53:54.959758Z"
    }
   },
   "outputs": [],
   "source": [
    "v2 = df_manager_2.client_account_id.value_counts()\n",
    "df_manager_2_deal = df_manager_2[df_manager_2.client_account_id.isin(v2.index[v2.gt(1)])]\n",
    "df_manager_2_touch = df_manager_2[df_manager_2.client_account_id.isin(v2.index[v2.eq(1)])]"
   ]
  },
  {
   "cell_type": "code",
   "execution_count": 103,
   "id": "c151f1e2",
   "metadata": {
    "ExecuteTime": {
     "end_time": "2022-10-10T07:53:56.384333Z",
     "start_time": "2022-10-10T07:53:56.375322Z"
    }
   },
   "outputs": [
    {
     "name": "stdout",
     "output_type": "stream",
     "text": [
      "Conversion Rate for Kylie Jenner: 1.2752391073326248\n"
     ]
    }
   ],
   "source": [
    "CR2 = (df_manager_2_deal.shape[0]/2) / (df_manager_2_deal.shape[0]/2 + df_manager_2_touch.shape[0]) * 100\n",
    "print(f'Conversion Rate for Kylie Jenner: {CR2}')"
   ]
  },
  {
   "cell_type": "code",
   "execution_count": 107,
   "id": "fa30567b",
   "metadata": {
    "ExecuteTime": {
     "end_time": "2022-10-10T07:56:41.508286Z",
     "start_time": "2022-10-10T07:56:41.485303Z"
    }
   },
   "outputs": [
    {
     "data": {
      "text/html": [
       "<div>\n",
       "<style scoped>\n",
       "    .dataframe tbody tr th:only-of-type {\n",
       "        vertical-align: middle;\n",
       "    }\n",
       "\n",
       "    .dataframe tbody tr th {\n",
       "        vertical-align: top;\n",
       "    }\n",
       "\n",
       "    .dataframe thead th {\n",
       "        text-align: right;\n",
       "    }\n",
       "</style>\n",
       "<table border=\"1\" class=\"dataframe\">\n",
       "  <thead>\n",
       "    <tr style=\"text-align: right;\">\n",
       "      <th></th>\n",
       "      <th>client_account_id</th>\n",
       "      <th>date</th>\n",
       "      <th>event_name</th>\n",
       "      <th>manager_id</th>\n",
       "      <th>manager_nickname</th>\n",
       "    </tr>\n",
       "  </thead>\n",
       "  <tbody>\n",
       "    <tr>\n",
       "      <th>1</th>\n",
       "      <td>1</td>\n",
       "      <td>2022-03-21</td>\n",
       "      <td>first_touch</td>\n",
       "      <td>3.0</td>\n",
       "      <td>Joe Biden</td>\n",
       "    </tr>\n",
       "    <tr>\n",
       "      <th>7</th>\n",
       "      <td>7</td>\n",
       "      <td>2021-07-31</td>\n",
       "      <td>first_touch</td>\n",
       "      <td>3.0</td>\n",
       "      <td>Joe Biden</td>\n",
       "    </tr>\n",
       "    <tr>\n",
       "      <th>9</th>\n",
       "      <td>9</td>\n",
       "      <td>2021-12-15</td>\n",
       "      <td>first_touch</td>\n",
       "      <td>3.0</td>\n",
       "      <td>Joe Biden</td>\n",
       "    </tr>\n",
       "    <tr>\n",
       "      <th>11</th>\n",
       "      <td>11</td>\n",
       "      <td>2022-05-21</td>\n",
       "      <td>first_touch</td>\n",
       "      <td>3.0</td>\n",
       "      <td>Joe Biden</td>\n",
       "    </tr>\n",
       "    <tr>\n",
       "      <th>12</th>\n",
       "      <td>12</td>\n",
       "      <td>2022-05-29</td>\n",
       "      <td>first_touch</td>\n",
       "      <td>3.0</td>\n",
       "      <td>Joe Biden</td>\n",
       "    </tr>\n",
       "  </tbody>\n",
       "</table>\n",
       "</div>"
      ],
      "text/plain": [
       "    client_account_id       date   event_name  manager_id manager_nickname\n",
       "1                   1 2022-03-21  first_touch         3.0        Joe Biden\n",
       "7                   7 2021-07-31  first_touch         3.0        Joe Biden\n",
       "9                   9 2021-12-15  first_touch         3.0        Joe Biden\n",
       "11                 11 2022-05-21  first_touch         3.0        Joe Biden\n",
       "12                 12 2022-05-29  first_touch         3.0        Joe Biden"
      ]
     },
     "execution_count": 107,
     "metadata": {},
     "output_type": "execute_result"
    }
   ],
   "source": [
    "df_manager_3 = df[df['manager_id'] == 3.0]\n",
    "df_manager_3.head()"
   ]
  },
  {
   "cell_type": "code",
   "execution_count": 108,
   "id": "ea68a395",
   "metadata": {
    "ExecuteTime": {
     "end_time": "2022-10-10T07:57:14.590902Z",
     "start_time": "2022-10-10T07:57:14.574912Z"
    }
   },
   "outputs": [],
   "source": [
    "df_manager_3 = df_manager_3[~df_manager_3.client_account_id.isin(accounts_to_del)]"
   ]
  },
  {
   "cell_type": "code",
   "execution_count": 109,
   "id": "292f6673",
   "metadata": {
    "ExecuteTime": {
     "end_time": "2022-10-10T07:58:10.021954Z",
     "start_time": "2022-10-10T07:58:10.002946Z"
    }
   },
   "outputs": [],
   "source": [
    "v3 = df_manager_3.client_account_id.value_counts()\n",
    "df_manager_3_deal = df_manager_3[df_manager_3.client_account_id.isin(v3.index[v3.gt(1)])]\n",
    "df_manager_3_touch = df_manager_3[df_manager_3.client_account_id.isin(v3.index[v3.eq(1)])]"
   ]
  },
  {
   "cell_type": "code",
   "execution_count": 110,
   "id": "bcfb16aa",
   "metadata": {
    "ExecuteTime": {
     "end_time": "2022-10-10T07:58:53.816984Z",
     "start_time": "2022-10-10T07:58:53.802980Z"
    }
   },
   "outputs": [
    {
     "name": "stdout",
     "output_type": "stream",
     "text": [
      "Conversion Rate for Joe Biden: 1.9827586206896552\n"
     ]
    }
   ],
   "source": [
    "CR3 = (df_manager_3_deal.shape[0]/2) / (df_manager_3_deal.shape[0]/2 + df_manager_3_touch.shape[0]) * 100\n",
    "print(f'Conversion Rate for Joe Biden: {round(CR3)}%')"
   ]
  },
  {
   "cell_type": "markdown",
   "id": "5727ba1f",
   "metadata": {},
   "source": [
    "**Our winner is Joe Biden**\n",
    "\n",
    "However, we see that the conversion rate for the whole Sales group is higher than for individual Sales Managers.\n",
    "It happend because we excluded the cases when one customer was supervised by different managers.\n",
    "\n",
    "As our team does so well as a group, maybe we need to reconsider our KPIs and to count such cases for the benefit of the managers too."
   ]
  }
 ],
 "metadata": {
  "kernelspec": {
   "display_name": "Python 3 (ipykernel)",
   "language": "python",
   "name": "python3"
  },
  "language_info": {
   "codemirror_mode": {
    "name": "ipython",
    "version": 3
   },
   "file_extension": ".py",
   "mimetype": "text/x-python",
   "name": "python",
   "nbconvert_exporter": "python",
   "pygments_lexer": "ipython3",
   "version": "3.8.5"
  }
 },
 "nbformat": 4,
 "nbformat_minor": 5
}
